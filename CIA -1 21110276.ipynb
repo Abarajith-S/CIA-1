{
 "cells": [
  {
   "cell_type": "code",
   "execution_count": 121,
   "id": "47bb4dc2",
   "metadata": {},
   "outputs": [],
   "source": [
    "import numpy as np \n",
    "import pandas as pd \n",
    "import matplotlib.pyplot as plt"
   ]
  },
  {
   "cell_type": "code",
   "execution_count": 122,
   "id": "4ab448d7",
   "metadata": {},
   "outputs": [],
   "source": [
    "from numpy import random "
   ]
  },
  {
   "cell_type": "code",
   "execution_count": 123,
   "id": "9de145ed",
   "metadata": {},
   "outputs": [],
   "source": [
    "x=np.random.randn(1000)\n",
    "y = (0.45*random.randn(1000))+x\n"
   ]
  },
  {
   "cell_type": "code",
   "execution_count": 124,
   "id": "c0b8cb23",
   "metadata": {},
   "outputs": [],
   "source": [
    "DF=pd.DataFrame({'X':x,'Y':y})"
   ]
  },
  {
   "cell_type": "code",
   "execution_count": 125,
   "id": "3cce06c3",
   "metadata": {},
   "outputs": [
    {
     "data": {
      "text/html": [
       "<div>\n",
       "<style scoped>\n",
       "    .dataframe tbody tr th:only-of-type {\n",
       "        vertical-align: middle;\n",
       "    }\n",
       "\n",
       "    .dataframe tbody tr th {\n",
       "        vertical-align: top;\n",
       "    }\n",
       "\n",
       "    .dataframe thead th {\n",
       "        text-align: right;\n",
       "    }\n",
       "</style>\n",
       "<table border=\"1\" class=\"dataframe\">\n",
       "  <thead>\n",
       "    <tr style=\"text-align: right;\">\n",
       "      <th></th>\n",
       "      <th>X</th>\n",
       "      <th>Y</th>\n",
       "    </tr>\n",
       "  </thead>\n",
       "  <tbody>\n",
       "    <tr>\n",
       "      <th>0</th>\n",
       "      <td>2.668748</td>\n",
       "      <td>3.460557</td>\n",
       "    </tr>\n",
       "    <tr>\n",
       "      <th>1</th>\n",
       "      <td>-0.070019</td>\n",
       "      <td>0.341472</td>\n",
       "    </tr>\n",
       "    <tr>\n",
       "      <th>2</th>\n",
       "      <td>-0.556049</td>\n",
       "      <td>-0.633562</td>\n",
       "    </tr>\n",
       "    <tr>\n",
       "      <th>3</th>\n",
       "      <td>-0.290359</td>\n",
       "      <td>-1.313892</td>\n",
       "    </tr>\n",
       "    <tr>\n",
       "      <th>4</th>\n",
       "      <td>-1.811659</td>\n",
       "      <td>-3.983625</td>\n",
       "    </tr>\n",
       "  </tbody>\n",
       "</table>\n",
       "</div>"
      ],
      "text/plain": [
       "          X         Y\n",
       "0  2.668748  3.460557\n",
       "1 -0.070019  0.341472\n",
       "2 -0.556049 -0.633562\n",
       "3 -0.290359 -1.313892\n",
       "4 -1.811659 -3.983625"
      ]
     },
     "execution_count": 125,
     "metadata": {},
     "output_type": "execute_result"
    }
   ],
   "source": [
    "DF.head()"
   ]
  },
  {
   "cell_type": "code",
   "execution_count": 126,
   "id": "27da08d9",
   "metadata": {},
   "outputs": [
    {
     "name": "stdout",
     "output_type": "stream",
     "text": [
      "<class 'pandas.core.frame.DataFrame'>\n",
      "RangeIndex: 1000 entries, 0 to 999\n",
      "Data columns (total 2 columns):\n",
      " #   Column  Non-Null Count  Dtype  \n",
      "---  ------  --------------  -----  \n",
      " 0   X       1000 non-null   float64\n",
      " 1   Y       1000 non-null   float64\n",
      "dtypes: float64(2)\n",
      "memory usage: 15.8 KB\n"
     ]
    }
   ],
   "source": [
    "DF.info()"
   ]
  },
  {
   "cell_type": "code",
   "execution_count": 127,
   "id": "08bbdc66",
   "metadata": {},
   "outputs": [
    {
     "data": {
      "text/html": [
       "<div>\n",
       "<style scoped>\n",
       "    .dataframe tbody tr th:only-of-type {\n",
       "        vertical-align: middle;\n",
       "    }\n",
       "\n",
       "    .dataframe tbody tr th {\n",
       "        vertical-align: top;\n",
       "    }\n",
       "\n",
       "    .dataframe thead th {\n",
       "        text-align: right;\n",
       "    }\n",
       "</style>\n",
       "<table border=\"1\" class=\"dataframe\">\n",
       "  <thead>\n",
       "    <tr style=\"text-align: right;\">\n",
       "      <th></th>\n",
       "      <th>X</th>\n",
       "      <th>Y</th>\n",
       "    </tr>\n",
       "  </thead>\n",
       "  <tbody>\n",
       "    <tr>\n",
       "      <th>count</th>\n",
       "      <td>1000.000000</td>\n",
       "      <td>1000.000000</td>\n",
       "    </tr>\n",
       "    <tr>\n",
       "      <th>mean</th>\n",
       "      <td>-0.012602</td>\n",
       "      <td>0.009245</td>\n",
       "    </tr>\n",
       "    <tr>\n",
       "      <th>std</th>\n",
       "      <td>0.985903</td>\n",
       "      <td>1.082099</td>\n",
       "    </tr>\n",
       "    <tr>\n",
       "      <th>min</th>\n",
       "      <td>-3.476285</td>\n",
       "      <td>-4.104038</td>\n",
       "    </tr>\n",
       "    <tr>\n",
       "      <th>25%</th>\n",
       "      <td>-0.685513</td>\n",
       "      <td>-0.731967</td>\n",
       "    </tr>\n",
       "    <tr>\n",
       "      <th>50%</th>\n",
       "      <td>0.030473</td>\n",
       "      <td>0.057740</td>\n",
       "    </tr>\n",
       "    <tr>\n",
       "      <th>75%</th>\n",
       "      <td>0.643130</td>\n",
       "      <td>0.751805</td>\n",
       "    </tr>\n",
       "    <tr>\n",
       "      <th>max</th>\n",
       "      <td>2.680619</td>\n",
       "      <td>3.460557</td>\n",
       "    </tr>\n",
       "  </tbody>\n",
       "</table>\n",
       "</div>"
      ],
      "text/plain": [
       "                 X            Y\n",
       "count  1000.000000  1000.000000\n",
       "mean     -0.012602     0.009245\n",
       "std       0.985903     1.082099\n",
       "min      -3.476285    -4.104038\n",
       "25%      -0.685513    -0.731967\n",
       "50%       0.030473     0.057740\n",
       "75%       0.643130     0.751805\n",
       "max       2.680619     3.460557"
      ]
     },
     "execution_count": 127,
     "metadata": {},
     "output_type": "execute_result"
    }
   ],
   "source": [
    "DF.describe()"
   ]
  },
  {
   "cell_type": "code",
   "execution_count": 128,
   "id": "9a384410",
   "metadata": {},
   "outputs": [],
   "source": [
    "x=DF['X'].values\n",
    "y=DF['Y'].values"
   ]
  },
  {
   "cell_type": "code",
   "execution_count": 129,
   "id": "3d48f059",
   "metadata": {},
   "outputs": [],
   "source": [
    "mx=np.mean(x)\n",
    "my=np.mean(y)"
   ]
  },
  {
   "cell_type": "code",
   "execution_count": 130,
   "id": "bfa239a2",
   "metadata": {},
   "outputs": [
    {
     "name": "stdout",
     "output_type": "stream",
     "text": [
      "m = 0.9982981423377408\n",
      "c = 0.021825027437892996\n"
     ]
    }
   ],
   "source": [
    "num=0\n",
    "den=0\n",
    "for i in range(1000):\n",
    "    num+=(x[i]- mx)*(y[i]-my)\n",
    "    den+=(x[i]-mx)**2\n",
    "m=num/den\n",
    "c=my-(m*mx)\n",
    "pred=m*x+c\n",
    "print('m =',m)\n",
    "print('c =',c)\n",
    "    \n",
    "    "
   ]
  },
  {
   "cell_type": "code",
   "execution_count": 131,
   "id": "44585cab",
   "metadata": {},
   "outputs": [],
   "source": [
    "n=100\n",
    "sum_xy = np.sum(y*x) - n*my*mx\n",
    "sum_xx = np.sum(x*x) - n*my*mx\n",
    "b1 = sum_xy / sum_xx\n",
    "b0 = my - b1*mx"
   ]
  },
  {
   "cell_type": "code",
   "execution_count": 132,
   "id": "59058a40",
   "metadata": {},
   "outputs": [
    {
     "data": {
      "image/png": "[encoded data removed]",
      "text/plain": [
       "<Figure size 432x288 with 1 Axes>"
      ]
     },
     "metadata": {
      "needs_background": "light"
     },
     "output_type": "display_data"
    }
   ],
   "source": [
    "plt.scatter(x,y,color = \"g\", s =10)\n",
    "plt.plot(x,pred, color = \"b\")\n",
    "plt.xlabel('x')\n",
    "plt.ylabel('y')\n",
    "plt.show()"
   ]
  },
  {
   "cell_type": "code",
   "execution_count": 133,
   "id": "a9b7cd15",
   "metadata": {},
   "outputs": [
    {
     "name": "stdout",
     "output_type": "stream",
     "text": [
      "Slope from Gradient Descent  0.9982981392173741\n",
      "Intercept from Gradient Descent  0.021825026805321474\n"
     ]
    }
   ],
   "source": [
    "M = 0\n",
    "C = 0\n",
    "L = 0.001\n",
    "itr = 1000 \n",
    "for i in range(itr): \n",
    "    pred = M*x + C\n",
    "    D_m = (-2/n) * sum(x * (y - pred)) \n",
    "    D_c = (-2/n) * sum(y -pred)\n",
    "    M = M - L * D_m \n",
    "    C = C - L * D_c \n",
    "    \n",
    "\n",
    "print(\"Slope from Gradient Descent \",M)\n",
    "print(\"Intercept from Gradient Descent \",C)"
   ]
  },
  {
   "cell_type": "code",
   "execution_count": 134,
   "id": "df0c7fa6",
   "metadata": {},
   "outputs": [
    {
     "data": {
      "image/png": "[encoded data removed]",
      "text/plain": [
       "<Figure size 432x288 with 1 Axes>"
      ]
     },
     "metadata": {
      "needs_background": "light"
     },
     "output_type": "display_data"
    }
   ],
   "source": [
    "plt.plot(x,M*x+C,c='black')\n",
    "plt.scatter(x,y,s=7,c='orange')\n",
    "plt.show()"
   ]
  },
  {
   "cell_type": "code",
   "execution_count": 135,
   "id": "85deca62",
   "metadata": {},
   "outputs": [
    {
     "name": "stdout",
     "output_type": "stream",
     "text": [
      "Coefficient using sklearn [0.99829814]\n",
      "Intercept using sklearn 0.02182502743789297\n"
     ]
    }
   ],
   "source": [
    "x=x.reshape(-1,1)\n",
    "from sklearn.linear_model import LinearRegression\n",
    "i=LinearRegression()\n",
    "i.fit(x,y)\n",
    "pred=i.predict(x)\n",
    "print(\"Coefficient using sklearn\",i.coef_)\n",
    "print(\"Intercept using sklearn\",i.intercept_)\n"
   ]
  },
  {
   "cell_type": "code",
   "execution_count": null,
   "id": "51acfece",
   "metadata": {},
   "outputs": [],
   "source": []
  }
 ],
 "metadata": {
  "kernelspec": {
   "display_name": "Python 3 (ipykernel)",
   "language": "python",
   "name": "python3"
  },
  "language_info": {
   "codemirror_mode": {
    "name": "ipython",
    "version": 3
   },
   "file_extension": ".py",
   "mimetype": "text/x-python",
   "name": "python",
   "nbconvert_exporter": "python",
   "pygments_lexer": "ipython3",
   "version": "3.9.7"
  }
 },
 "nbformat": 4,
 "nbformat_minor": 5
}
